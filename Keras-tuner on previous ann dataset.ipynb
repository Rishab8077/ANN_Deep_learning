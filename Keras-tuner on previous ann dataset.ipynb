{
 "cells": [
  {
   "cell_type": "code",
   "execution_count": 1,
   "id": "a49a04c2",
   "metadata": {},
   "outputs": [],
   "source": [
    "import numpy as np\n",
    "import pandas as pd\n",
    "import matplotlib.pyplot as plt\n"
   ]
  },
  {
   "cell_type": "code",
   "execution_count": 2,
   "id": "e2904f7e",
   "metadata": {},
   "outputs": [],
   "source": [
    "dataset=pd.read_csv('Churn_Modelling.csv')\n",
    "\n",
    "#dependent and independent\n",
    "X = dataset.iloc[:, 3:13]\n",
    "y = dataset.iloc[:, 13]\n"
   ]
  },
  {
   "cell_type": "code",
   "execution_count": 3,
   "id": "6013f122",
   "metadata": {},
   "outputs": [],
   "source": [
    "# applying encoding for geography and gender\n",
    "geography = pd.get_dummies(X['Geography'],drop_first=True)\n",
    "gender = pd.get_dummies(X['Gender'],drop_first=True)\n",
    "\n",
    "# concatination\n",
    "X=pd.concat([X,geography,gender],axis=1)\n",
    "X=X.drop(['Geography','Gender'],axis=1)\n"
   ]
  },
  {
   "cell_type": "code",
   "execution_count": 4,
   "id": "8fda623a",
   "metadata": {},
   "outputs": [],
   "source": [
    "# Splitting the dataset into the Training set and Test set\n",
    "from sklearn.model_selection import train_test_split\n",
    "X_train, X_test, y_train, y_test = train_test_split(X, y, test_size = 0.2, random_state = 0)\n",
    "\n",
    "# Feature Scaling\n",
    "from sklearn.preprocessing import StandardScaler\n",
    "sc = StandardScaler()\n",
    "X_train = sc.fit_transform(X_train)\n",
    "X_test = sc.transform(X_test)\n"
   ]
  },
  {
   "cell_type": "code",
   "execution_count": 5,
   "id": "fd265772",
   "metadata": {},
   "outputs": [
    {
     "name": "stderr",
     "output_type": "stream",
     "text": [
      "<ipython-input-5-7bb571729a7c>:3: DeprecationWarning: `import kerastuner` is deprecated, please use `import keras_tuner`.\n",
      "  from kerastuner.tuners import RandomSearch\n"
     ]
    }
   ],
   "source": [
    "from tensorflow import keras\n",
    "from tensorflow.keras import layers\n",
    "from kerastuner.tuners import RandomSearch"
   ]
  },
  {
   "cell_type": "code",
   "execution_count": 6,
   "id": "e4a05596",
   "metadata": {},
   "outputs": [],
   "source": [
    "def build_model(hp):\n",
    "    model = keras.Sequential()\n",
    "    for i in range(hp.Int('num_layers',2,20)):\n",
    "        #here hp is parameter when we are are running randomsearch and we are saying neural network can have layers from 2 to 20 (hidden layers)\n",
    "        model.add(layers.Dense(units=hp.Int('unit_'+ str(i),\n",
    "                                            min_value=32,\n",
    "                                            max_value=512,\n",
    "                                            step=32),\n",
    "                               activation='relu'))\n",
    "        #number of neurons ranges from 32 to 512\n",
    "    model.add(layers.Dense(1,activation='sigmoid'))\n",
    "    #since this is regression problem so output will be only 1\n",
    "    model.compile(\n",
    "        optimizer=keras.optimizers.Adam(\n",
    "            hp.Choice('learning_rate',[.001,.0001,.00001])),\n",
    "            loss='binary_crossentropy',\n",
    "        metrics=['accuracy'])\n",
    "    return model                  \n",
    "        "
   ]
  },
  {
   "cell_type": "code",
   "execution_count": 7,
   "id": "a3d12168",
   "metadata": {},
   "outputs": [],
   "source": [
    "tuner = RandomSearch(\n",
    "    build_model,\n",
    "    objective='val_accuracy',\n",
    "    max_trials=5,\n",
    "    executions_per_trial=3,\n",
    "    directory='keras-tuner_ann')"
   ]
  },
  {
   "cell_type": "code",
   "execution_count": 8,
   "id": "71b84219",
   "metadata": {},
   "outputs": [
    {
     "name": "stdout",
     "output_type": "stream",
     "text": [
      "Search space summary\n",
      "Default search space size: 4\n",
      "num_layers (Int)\n",
      "{'default': None, 'conditions': [], 'min_value': 2, 'max_value': 20, 'step': 1, 'sampling': None}\n",
      "unit_0 (Int)\n",
      "{'default': None, 'conditions': [], 'min_value': 32, 'max_value': 512, 'step': 32, 'sampling': None}\n",
      "unit_1 (Int)\n",
      "{'default': None, 'conditions': [], 'min_value': 32, 'max_value': 512, 'step': 32, 'sampling': None}\n",
      "learning_rate (Choice)\n",
      "{'default': 0.001, 'conditions': [], 'values': [0.001, 0.0001, 1e-05], 'ordered': True}\n"
     ]
    }
   ],
   "source": [
    "tuner.search_space_summary()"
   ]
  },
  {
   "cell_type": "code",
   "execution_count": 9,
   "id": "9e241ec2",
   "metadata": {},
   "outputs": [
    {
     "name": "stdout",
     "output_type": "stream",
     "text": [
      "Trial 5 Complete [00h 02m 22s]\n",
      "val_accuracy: 0.8618333339691162\n",
      "\n",
      "Best val_accuracy So Far: 0.8658333222071329\n",
      "Total elapsed time: 00h 33m 13s\n",
      "INFO:tensorflow:Oracle triggered exit\n"
     ]
    }
   ],
   "source": [
    "tuner.search(X_train, y_train,\n",
    "             epochs=50,\n",
    "             validation_data=(X_test, y_test))"
   ]
  },
  {
   "cell_type": "code",
   "execution_count": 10,
   "id": "36711f85",
   "metadata": {},
   "outputs": [
    {
     "name": "stdout",
     "output_type": "stream",
     "text": [
      "Results summary\n",
      "Results in keras-tuner_ann\\untitled_project\n",
      "Showing 10 best trials\n",
      "Objective(name='val_accuracy', direction='max')\n",
      "Trial summary\n",
      "Hyperparameters:\n",
      "num_layers: 18\n",
      "unit_0: 448\n",
      "unit_1: 224\n",
      "learning_rate: 0.0001\n",
      "unit_2: 32\n",
      "unit_3: 32\n",
      "unit_4: 32\n",
      "unit_5: 32\n",
      "unit_6: 32\n",
      "unit_7: 32\n",
      "unit_8: 32\n",
      "unit_9: 32\n",
      "unit_10: 32\n",
      "unit_11: 32\n",
      "unit_12: 32\n",
      "unit_13: 32\n",
      "unit_14: 32\n",
      "unit_15: 32\n",
      "unit_16: 32\n",
      "unit_17: 32\n",
      "Score: 0.8658333222071329\n",
      "Trial summary\n",
      "Hyperparameters:\n",
      "num_layers: 15\n",
      "unit_0: 416\n",
      "unit_1: 96\n",
      "learning_rate: 0.0001\n",
      "unit_2: 448\n",
      "unit_3: 480\n",
      "unit_4: 160\n",
      "unit_5: 320\n",
      "unit_6: 384\n",
      "unit_7: 416\n",
      "unit_8: 352\n",
      "unit_9: 480\n",
      "unit_10: 416\n",
      "unit_11: 352\n",
      "unit_12: 128\n",
      "unit_13: 384\n",
      "unit_14: 384\n",
      "unit_15: 448\n",
      "unit_16: 416\n",
      "unit_17: 320\n",
      "Score: 0.8636666735013326\n",
      "Trial summary\n",
      "Hyperparameters:\n",
      "num_layers: 12\n",
      "unit_0: 96\n",
      "unit_1: 480\n",
      "learning_rate: 1e-05\n",
      "unit_2: 160\n",
      "unit_3: 512\n",
      "unit_4: 320\n",
      "unit_5: 352\n",
      "unit_6: 64\n",
      "unit_7: 160\n",
      "unit_8: 192\n",
      "unit_9: 224\n",
      "unit_10: 128\n",
      "unit_11: 96\n",
      "unit_12: 192\n",
      "unit_13: 128\n",
      "unit_14: 288\n",
      "unit_15: 384\n",
      "unit_16: 256\n",
      "unit_17: 416\n",
      "Score: 0.862500011920929\n",
      "Trial summary\n",
      "Hyperparameters:\n",
      "num_layers: 13\n",
      "unit_0: 32\n",
      "unit_1: 352\n",
      "learning_rate: 0.001\n",
      "unit_2: 480\n",
      "unit_3: 256\n",
      "unit_4: 96\n",
      "unit_5: 192\n",
      "unit_6: 96\n",
      "unit_7: 448\n",
      "unit_8: 480\n",
      "unit_9: 480\n",
      "unit_10: 128\n",
      "unit_11: 320\n",
      "unit_12: 416\n",
      "unit_13: 224\n",
      "unit_14: 64\n",
      "unit_15: 320\n",
      "unit_16: 224\n",
      "unit_17: 384\n",
      "Score: 0.8619999885559082\n",
      "Trial summary\n",
      "Hyperparameters:\n",
      "num_layers: 8\n",
      "unit_0: 96\n",
      "unit_1: 256\n",
      "learning_rate: 0.001\n",
      "unit_2: 192\n",
      "unit_3: 96\n",
      "unit_4: 288\n",
      "unit_5: 64\n",
      "unit_6: 32\n",
      "unit_7: 288\n",
      "unit_8: 32\n",
      "unit_9: 416\n",
      "unit_10: 384\n",
      "unit_11: 96\n",
      "unit_12: 160\n",
      "unit_13: 160\n",
      "unit_14: 160\n",
      "unit_15: 320\n",
      "unit_16: 320\n",
      "unit_17: 288\n",
      "Score: 0.8618333339691162\n"
     ]
    }
   ],
   "source": [
    "tuner.results_summary()"
   ]
  },
  {
   "cell_type": "code",
   "execution_count": null,
   "id": "bcc062d7",
   "metadata": {},
   "outputs": [],
   "source": []
  }
 ],
 "metadata": {
  "kernelspec": {
   "display_name": "Python 3",
   "language": "python",
   "name": "python3"
  },
  "language_info": {
   "codemirror_mode": {
    "name": "ipython",
    "version": 3
   },
   "file_extension": ".py",
   "mimetype": "text/x-python",
   "name": "python",
   "nbconvert_exporter": "python",
   "pygments_lexer": "ipython3",
   "version": "3.9.2"
  }
 },
 "nbformat": 4,
 "nbformat_minor": 5
}
