{
 "cells": [
  {
   "cell_type": "markdown",
   "id": "3a32babc",
   "metadata": {},
   "source": [
    "## Keras tuner :- decides number of hidden layers and neurons in neural network"
   ]
  },
  {
   "cell_type": "code",
   "execution_count": 1,
   "id": "12e642c7",
   "metadata": {},
   "outputs": [
    {
     "name": "stderr",
     "output_type": "stream",
     "text": [
      "<ipython-input-1-63cf4df417c7>:4: DeprecationWarning: `import kerastuner` is deprecated, please use `import keras_tuner`.\n",
      "  from kerastuner.tuners import RandomSearch\n"
     ]
    }
   ],
   "source": [
    "import pandas as pd\n",
    "from tensorflow import keras\n",
    "from tensorflow.keras import layers\n",
    "from kerastuner.tuners import RandomSearch"
   ]
  },
  {
   "cell_type": "code",
   "execution_count": 2,
   "id": "1af1b9fd",
   "metadata": {},
   "outputs": [
    {
     "data": {
      "text/html": [
       "<div>\n",
       "<style scoped>\n",
       "    .dataframe tbody tr th:only-of-type {\n",
       "        vertical-align: middle;\n",
       "    }\n",
       "\n",
       "    .dataframe tbody tr th {\n",
       "        vertical-align: top;\n",
       "    }\n",
       "\n",
       "    .dataframe thead th {\n",
       "        text-align: right;\n",
       "    }\n",
       "</style>\n",
       "<table border=\"1\" class=\"dataframe\">\n",
       "  <thead>\n",
       "    <tr style=\"text-align: right;\">\n",
       "      <th></th>\n",
       "      <th>T</th>\n",
       "      <th>TM</th>\n",
       "      <th>Tm</th>\n",
       "      <th>SLP</th>\n",
       "      <th>H</th>\n",
       "      <th>VV</th>\n",
       "      <th>V</th>\n",
       "      <th>VM</th>\n",
       "      <th>PM 2.5</th>\n",
       "    </tr>\n",
       "  </thead>\n",
       "  <tbody>\n",
       "    <tr>\n",
       "      <th>0</th>\n",
       "      <td>7.4</td>\n",
       "      <td>9.8</td>\n",
       "      <td>4.8</td>\n",
       "      <td>1017.6</td>\n",
       "      <td>93.0</td>\n",
       "      <td>0.5</td>\n",
       "      <td>4.3</td>\n",
       "      <td>9.4</td>\n",
       "      <td>219.720833</td>\n",
       "    </tr>\n",
       "    <tr>\n",
       "      <th>1</th>\n",
       "      <td>7.8</td>\n",
       "      <td>12.7</td>\n",
       "      <td>4.4</td>\n",
       "      <td>1018.5</td>\n",
       "      <td>87.0</td>\n",
       "      <td>0.6</td>\n",
       "      <td>4.4</td>\n",
       "      <td>11.1</td>\n",
       "      <td>182.187500</td>\n",
       "    </tr>\n",
       "    <tr>\n",
       "      <th>2</th>\n",
       "      <td>6.7</td>\n",
       "      <td>13.4</td>\n",
       "      <td>2.4</td>\n",
       "      <td>1019.4</td>\n",
       "      <td>82.0</td>\n",
       "      <td>0.6</td>\n",
       "      <td>4.8</td>\n",
       "      <td>11.1</td>\n",
       "      <td>154.037500</td>\n",
       "    </tr>\n",
       "    <tr>\n",
       "      <th>3</th>\n",
       "      <td>8.6</td>\n",
       "      <td>15.5</td>\n",
       "      <td>3.3</td>\n",
       "      <td>1018.7</td>\n",
       "      <td>72.0</td>\n",
       "      <td>0.8</td>\n",
       "      <td>8.1</td>\n",
       "      <td>20.6</td>\n",
       "      <td>223.208333</td>\n",
       "    </tr>\n",
       "    <tr>\n",
       "      <th>4</th>\n",
       "      <td>12.4</td>\n",
       "      <td>20.9</td>\n",
       "      <td>4.4</td>\n",
       "      <td>1017.3</td>\n",
       "      <td>61.0</td>\n",
       "      <td>1.3</td>\n",
       "      <td>8.7</td>\n",
       "      <td>22.2</td>\n",
       "      <td>200.645833</td>\n",
       "    </tr>\n",
       "  </tbody>\n",
       "</table>\n",
       "</div>"
      ],
      "text/plain": [
       "      T    TM   Tm     SLP     H   VV    V    VM      PM 2.5\n",
       "0   7.4   9.8  4.8  1017.6  93.0  0.5  4.3   9.4  219.720833\n",
       "1   7.8  12.7  4.4  1018.5  87.0  0.6  4.4  11.1  182.187500\n",
       "2   6.7  13.4  2.4  1019.4  82.0  0.6  4.8  11.1  154.037500\n",
       "3   8.6  15.5  3.3  1018.7  72.0  0.8  8.1  20.6  223.208333\n",
       "4  12.4  20.9  4.4  1017.3  61.0  1.3  8.7  22.2  200.645833"
      ]
     },
     "execution_count": 2,
     "metadata": {},
     "output_type": "execute_result"
    }
   ],
   "source": [
    "df=pd.read_csv('Real_Combine.csv')\n",
    "df.head()"
   ]
  },
  {
   "cell_type": "code",
   "execution_count": 3,
   "id": "94dd47ec",
   "metadata": {},
   "outputs": [],
   "source": [
    "X=df.iloc[:,:-1]\n",
    "y=df.iloc[:,1]"
   ]
  },
  {
   "cell_type": "raw",
   "id": "4619ed1a",
   "metadata": {},
   "source": [
    "Hyperparametes\n",
    "1) number of hidden layers\n",
    "2) number of hidden neurons \n",
    "3) learning rate value"
   ]
  },
  {
   "cell_type": "code",
   "execution_count": 4,
   "id": "5ee595b3",
   "metadata": {},
   "outputs": [],
   "source": [
    "def build_model(hp):\n",
    "    model = keras.Sequential()\n",
    "    for i in range(hp.Int('num_layers',2,20)):\n",
    "        #here hp is parameter when we are are running randomsearch and we are saying neural network can have layers from 2 to 20 (hidden layers)\n",
    "        model.add(layers.Dense(units=hp.Int('unit_'+ str(i),\n",
    "                                            min_value=32,\n",
    "                                            max_value=512,\n",
    "                                            step=32),\n",
    "                               activation='relu'))\n",
    "        #number of neurons ranges from 32 to 512\n",
    "    model.add(layers.Dense(1,activation='linear'))\n",
    "    #since this is regression problem so output will be only 1\n",
    "    model.compile(\n",
    "        optimizer=keras.optimizers.Adam(\n",
    "            hp.Choice('learning_rate',[.001,.0001,.00001])),\n",
    "            loss='mean_absolute_error',\n",
    "        metrics=['mean_absolute_error'])\n",
    "    return model                  \n",
    "        "
   ]
  },
  {
   "cell_type": "code",
   "execution_count": 9,
   "id": "e528685e",
   "metadata": {},
   "outputs": [],
   "source": [
    "tuner = RandomSearch(\n",
    "    build_model,\n",
    "    objective='val_mean_absolute_error',\n",
    "    max_trials=5,\n",
    "    executions_per_trial=3,\n",
    "    directory='deep_learning')"
   ]
  },
  {
   "cell_type": "code",
   "execution_count": 10,
   "id": "a29ebef2",
   "metadata": {},
   "outputs": [
    {
     "name": "stdout",
     "output_type": "stream",
     "text": [
      "Search space summary\n",
      "Default search space size: 4\n",
      "num_layers (Int)\n",
      "{'default': None, 'conditions': [], 'min_value': 2, 'max_value': 20, 'step': 1, 'sampling': None}\n",
      "unit_0 (Int)\n",
      "{'default': None, 'conditions': [], 'min_value': 32, 'max_value': 512, 'step': 32, 'sampling': None}\n",
      "unit_1 (Int)\n",
      "{'default': None, 'conditions': [], 'min_value': 32, 'max_value': 512, 'step': 32, 'sampling': None}\n",
      "learning_rate (Choice)\n",
      "{'default': 0.001, 'conditions': [], 'values': [0.001, 0.0001, 1e-05], 'ordered': True}\n"
     ]
    }
   ],
   "source": [
    "tuner.search_space_summary()"
   ]
  },
  {
   "cell_type": "code",
   "execution_count": 11,
   "id": "50de7319",
   "metadata": {},
   "outputs": [],
   "source": [
    "from sklearn.model_selection import train_test_split\n",
    "X_train, X_test, y_train, y_test = train_test_split(X, y, test_size=0.3, random_state=0)"
   ]
  },
  {
   "cell_type": "code",
   "execution_count": 12,
   "id": "456d0df4",
   "metadata": {},
   "outputs": [
    {
     "name": "stdout",
     "output_type": "stream",
     "text": [
      "Trial 5 Complete [00h 00m 19s]\n",
      "val_mean_absolute_error: 5.523187478383382\n",
      "\n",
      "Best val_mean_absolute_error So Far: 3.081889549891154\n",
      "Total elapsed time: 00h 00m 59s\n",
      "INFO:tensorflow:Oracle triggered exit\n"
     ]
    }
   ],
   "source": [
    "tuner.search(X_train, y_train,\n",
    "             epochs=5,\n",
    "             validation_data=(X_test, y_test))"
   ]
  },
  {
   "cell_type": "code",
   "execution_count": 13,
   "id": "4f260081",
   "metadata": {},
   "outputs": [
    {
     "name": "stdout",
     "output_type": "stream",
     "text": [
      "Results summary\n",
      "Results in deep_learning\\untitled_project\n",
      "Showing 10 best trials\n",
      "Objective(name='val_mean_absolute_error', direction='min')\n",
      "Trial summary\n",
      "Hyperparameters:\n",
      "num_layers: 6\n",
      "unit_0: 192\n",
      "unit_1: 160\n",
      "learning_rate: 0.001\n",
      "unit_2: 64\n",
      "unit_3: 256\n",
      "unit_4: 64\n",
      "unit_5: 448\n",
      "unit_6: 384\n",
      "unit_7: 224\n",
      "unit_8: 160\n",
      "unit_9: 32\n",
      "unit_10: 256\n",
      "unit_11: 192\n",
      "unit_12: 224\n",
      "unit_13: 160\n",
      "unit_14: 64\n",
      "unit_15: 256\n",
      "unit_16: 224\n",
      "unit_17: 416\n",
      "unit_18: 384\n",
      "unit_19: 384\n",
      "Score: 3.081889549891154\n",
      "Trial summary\n",
      "Hyperparameters:\n",
      "num_layers: 4\n",
      "unit_0: 448\n",
      "unit_1: 96\n",
      "learning_rate: 0.0001\n",
      "unit_2: 256\n",
      "unit_3: 480\n",
      "unit_4: 128\n",
      "unit_5: 64\n",
      "unit_6: 288\n",
      "unit_7: 288\n",
      "unit_8: 288\n",
      "unit_9: 416\n",
      "unit_10: 384\n",
      "unit_11: 320\n",
      "unit_12: 64\n",
      "unit_13: 416\n",
      "unit_14: 352\n",
      "unit_15: 64\n",
      "unit_16: 160\n",
      "unit_17: 320\n",
      "unit_18: 320\n",
      "unit_19: 384\n",
      "Score: 3.6340412298838296\n",
      "Trial summary\n",
      "Hyperparameters:\n",
      "num_layers: 18\n",
      "unit_0: 160\n",
      "unit_1: 224\n",
      "learning_rate: 0.0001\n",
      "unit_2: 96\n",
      "unit_3: 352\n",
      "unit_4: 320\n",
      "unit_5: 128\n",
      "unit_6: 128\n",
      "unit_7: 288\n",
      "unit_8: 480\n",
      "unit_9: 288\n",
      "unit_10: 384\n",
      "unit_11: 416\n",
      "unit_12: 512\n",
      "unit_13: 192\n",
      "unit_14: 352\n",
      "unit_15: 352\n",
      "unit_16: 448\n",
      "unit_17: 512\n",
      "unit_18: 128\n",
      "unit_19: 128\n",
      "Score: 5.207112471262614\n",
      "Trial summary\n",
      "Hyperparameters:\n",
      "num_layers: 16\n",
      "unit_0: 480\n",
      "unit_1: 256\n",
      "learning_rate: 1e-05\n",
      "unit_2: 256\n",
      "unit_3: 352\n",
      "unit_4: 384\n",
      "unit_5: 448\n",
      "unit_6: 352\n",
      "unit_7: 416\n",
      "unit_8: 448\n",
      "unit_9: 448\n",
      "unit_10: 96\n",
      "unit_11: 256\n",
      "unit_12: 352\n",
      "unit_13: 64\n",
      "unit_14: 480\n",
      "unit_15: 192\n",
      "unit_16: 480\n",
      "unit_17: 448\n",
      "unit_18: 384\n",
      "unit_19: 448\n",
      "Score: 5.523187478383382\n",
      "Trial summary\n",
      "Hyperparameters:\n",
      "num_layers: 20\n",
      "unit_0: 192\n",
      "unit_1: 64\n",
      "learning_rate: 1e-05\n",
      "unit_2: 32\n",
      "unit_3: 32\n",
      "unit_4: 32\n",
      "unit_5: 32\n",
      "unit_6: 32\n",
      "unit_7: 32\n",
      "unit_8: 32\n",
      "unit_9: 32\n",
      "unit_10: 32\n",
      "unit_11: 32\n",
      "unit_12: 32\n",
      "unit_13: 32\n",
      "unit_14: 32\n",
      "unit_15: 32\n",
      "unit_16: 32\n",
      "unit_17: 32\n",
      "unit_18: 32\n",
      "unit_19: 32\n",
      "Score: 32.62826156616211\n"
     ]
    }
   ],
   "source": [
    "tuner.results_summary()"
   ]
  },
  {
   "cell_type": "code",
   "execution_count": null,
   "id": "82410e02",
   "metadata": {},
   "outputs": [],
   "source": [
    "# therefore we can choose and create the neural network which performs best\n"
   ]
  }
 ],
 "metadata": {
  "kernelspec": {
   "display_name": "Python 3",
   "language": "python",
   "name": "python3"
  },
  "language_info": {
   "codemirror_mode": {
    "name": "ipython",
    "version": 3
   },
   "file_extension": ".py",
   "mimetype": "text/x-python",
   "name": "python",
   "nbconvert_exporter": "python",
   "pygments_lexer": "ipython3",
   "version": "3.9.2"
  }
 },
 "nbformat": 4,
 "nbformat_minor": 5
}
